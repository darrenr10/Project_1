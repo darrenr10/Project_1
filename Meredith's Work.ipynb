{
 "cells": [
  {
   "cell_type": "code",
   "execution_count": 1,
   "metadata": {},
   "outputs": [
    {
     "name": "stdout",
     "output_type": "stream",
     "text": [
      "https://api.coindesk.com/v1/bpi/historical/close.json?start=2020-01-01&end=2020-12-31start=2020-01-01&end=2020-12-31\n",
      "https://api.coindesk.com/v1/bpi/historical/close.json?start=2020-01-01&end=2020-12-31start=2020-02-28&end=2020-03-26\n"
     ]
    }
   ],
   "source": [
    "# Dependencies and Setup\n",
    "import requests\n",
    "import json\n",
    "import matplotlib.pyplot as plt\n",
    "import pandas as pd\n",
    "import numpy as np\n",
    "import requests\n",
    "import time\n",
    "# added these dependencies\n",
    "import json\n",
    "import scipy.stats as st\n",
    "from pprint import pprint\n",
    "#this was already here\n",
    "from scipy.stats import linregress\n",
    "\n",
    "#Covid border shutdown : february 28-march 26, 2020\n",
    "\n",
    "# URL for GET requests to retrieve vehicle data\n",
    "url = \"https://api.coindesk.com/v1/bpi/historical/close.json?start=2020-01-01&end=2020-12-31\"\n",
    "default = \"start=2020-01-01&end=2020-12-31\" \n",
    "start_date = \"2020-02-28\"\n",
    "end_date = \"2020-03-26\"\n",
    "print(f'{url}{default}')\n",
    "print(f'{url}start={start_date}&end={end_date}')\n"
   ]
  },
  {
   "cell_type": "code",
   "execution_count": 2,
   "metadata": {},
   "outputs": [
    {
     "name": "stdout",
     "output_type": "stream",
     "text": [
      "{'bpi': {'2020-01-01': 7188.4633,\n",
      "         '2020-01-02': 6961.5683,\n",
      "         '2020-01-03': 7346.58,\n",
      "         '2020-01-04': 7355.855,\n",
      "         '2020-01-05': 7356.3117,\n",
      "         '2020-01-06': 7761.825,\n",
      "         '2020-01-07': 8157.7617,\n",
      "         '2020-01-08': 8042.8733,\n",
      "         '2020-01-09': 7816.9233,\n",
      "         '2020-01-10': 8189.265,\n",
      "         '2020-01-11': 8016.4267,\n",
      "         '2020-01-12': 8178.8833,\n",
      "         '2020-01-13': 8105.4783,\n",
      "         '2020-01-14': 8807.4267,\n",
      "         '2020-01-15': 8808.4867,\n",
      "         '2020-01-16': 8716.9133,\n",
      "         '2020-01-17': 8890.25,\n",
      "         '2020-01-18': 8901.17,\n",
      "         '2020-01-19': 8698.5717,\n",
      "         '2020-01-20': 8631.2883,\n",
      "         '2020-01-21': 8727.6033,\n",
      "         '2020-01-22': 8661.01,\n",
      "         '2020-01-23': 8392.145,\n",
      "         '2020-01-24': 8436.49,\n",
      "         '2020-01-25': 8337.1017,\n",
      "         '2020-01-26': 8602.7417,\n",
      "         '2020-01-27': 8901.5067,\n",
      "         '2020-01-28': 9393.2733,\n",
      "         '2020-01-29': 9290.46,\n",
      "         '2020-01-30': 9508.725,\n",
      "         '2020-01-31': 9346.1333,\n",
      "         '2020-02-01': 9388.6617,\n",
      "         '2020-02-02': 9333.08,\n",
      "         '2020-02-03': 9291.6433,\n",
      "         '2020-02-04': 9175.3367,\n",
      "         '2020-02-05': 9613.4033,\n",
      "         '2020-02-06': 9750.5467,\n",
      "         '2020-02-07': 9808.5967,\n",
      "         '2020-02-08': 9897.6583,\n",
      "         '2020-02-09': 10161.2833,\n",
      "         '2020-02-10': 9852.7183,\n",
      "         '2020-02-11': 10266.1,\n",
      "         '2020-02-12': 10347.9517,\n",
      "         '2020-02-13': 10230.0783,\n",
      "         '2020-02-14': 10356.7567,\n",
      "         '2020-02-15': 9903.0217,\n",
      "         '2020-02-16': 9926.2,\n",
      "         '2020-02-17': 9706.08,\n",
      "         '2020-02-18': 10185.8767,\n",
      "         '2020-02-19': 9593.48,\n",
      "         '2020-02-20': 9607.31,\n",
      "         '2020-02-21': 9695.5583,\n",
      "         '2020-02-22': 9667.8433,\n",
      "         '2020-02-23': 9973.2733,\n",
      "         '2020-02-24': 9664.6333,\n",
      "         '2020-02-25': 9313.92,\n",
      "         '2020-02-26': 8790.12,\n",
      "         '2020-02-27': 8816.585,\n",
      "         '2020-02-28': 8715.6617,\n",
      "         '2020-02-29': 8538.3983,\n",
      "         '2020-03-01': 8540.2567,\n",
      "         '2020-03-02': 8926.2517,\n",
      "         '2020-03-03': 8768.18,\n",
      "         '2020-03-04': 8767.8867,\n",
      "         '2020-03-05': 9073.275,\n",
      "         '2020-03-06': 9165.1517,\n",
      "         '2020-03-07': 8905.9517,\n",
      "         '2020-03-08': 8050.1883,\n",
      "         '2020-03-09': 7944.45,\n",
      "         '2020-03-10': 7899.2267,\n",
      "         '2020-03-11': 7951.17,\n",
      "         '2020-03-12': 4914.085,\n",
      "         '2020-03-13': 5629.5767,\n",
      "         '2020-03-14': 5182.3217,\n",
      "         '2020-03-15': 5360.06,\n",
      "         '2020-03-16': 5043.6783,\n",
      "         '2020-03-17': 5337.0933,\n",
      "         '2020-03-18': 5411.6217,\n",
      "         '2020-03-19': 6180.27,\n",
      "         '2020-03-20': 6206.6117,\n",
      "         '2020-03-21': 6197.6183,\n",
      "         '2020-03-22': 5803.67,\n",
      "         '2020-03-23': 6492.94,\n",
      "         '2020-03-24': 6766.7817,\n",
      "         '2020-03-25': 6687.705,\n",
      "         '2020-03-26': 6709.95},\n",
      " 'disclaimer': 'This data was produced from the CoinDesk Bitcoin Price Index. '\n",
      "               'BPI value data returned as USD.',\n",
      " 'time': {'updated': 'Mar 27, 2020 00:03:00 UTC',\n",
      "          'updatedISO': '2020-03-27T00:03:00+00:00'}}\n"
     ]
    }
   ],
   "source": [
    "query_url = f'{url}start={start_date}&end={end_date}'\n",
    "\n",
    "pprint(requests.get(query_url).json())"
   ]
  },
  {
   "cell_type": "code",
   "execution_count": 3,
   "metadata": {},
   "outputs": [
    {
     "name": "stdout",
     "output_type": "stream",
     "text": [
      "<Response [200]>\n"
     ]
    }
   ],
   "source": [
    "response_url = f'{url}start={start_date}&end={end_date}'\n",
    "print(requests.get(response_url))"
   ]
  },
  {
   "cell_type": "code",
   "execution_count": 4,
   "metadata": {},
   "outputs": [
    {
     "name": "stdout",
     "output_type": "stream",
     "text": [
      "{'bpi': {'2020-01-01': 7188.4633,\n",
      "         '2020-01-02': 6961.5683,\n",
      "         '2020-01-03': 7346.58,\n",
      "         '2020-01-04': 7355.855,\n",
      "         '2020-01-05': 7356.3117,\n",
      "         '2020-01-06': 7761.825,\n",
      "         '2020-01-07': 8157.7617,\n",
      "         '2020-01-08': 8042.8733,\n",
      "         '2020-01-09': 7816.9233,\n",
      "         '2020-01-10': 8189.265,\n",
      "         '2020-01-11': 8016.4267,\n",
      "         '2020-01-12': 8178.8833,\n",
      "         '2020-01-13': 8105.4783,\n",
      "         '2020-01-14': 8807.4267,\n",
      "         '2020-01-15': 8808.4867,\n",
      "         '2020-01-16': 8716.9133,\n",
      "         '2020-01-17': 8890.25,\n",
      "         '2020-01-18': 8901.17,\n",
      "         '2020-01-19': 8698.5717,\n",
      "         '2020-01-20': 8631.2883,\n",
      "         '2020-01-21': 8727.6033,\n",
      "         '2020-01-22': 8661.01,\n",
      "         '2020-01-23': 8392.145,\n",
      "         '2020-01-24': 8436.49,\n",
      "         '2020-01-25': 8337.1017,\n",
      "         '2020-01-26': 8602.7417,\n",
      "         '2020-01-27': 8901.5067,\n",
      "         '2020-01-28': 9393.2733,\n",
      "         '2020-01-29': 9290.46,\n",
      "         '2020-01-30': 9508.725,\n",
      "         '2020-01-31': 9346.1333,\n",
      "         '2020-02-01': 9388.6617,\n",
      "         '2020-02-02': 9333.08,\n",
      "         '2020-02-03': 9291.6433,\n",
      "         '2020-02-04': 9175.3367,\n",
      "         '2020-02-05': 9613.4033,\n",
      "         '2020-02-06': 9750.5467,\n",
      "         '2020-02-07': 9808.5967,\n",
      "         '2020-02-08': 9897.6583,\n",
      "         '2020-02-09': 10161.2833,\n",
      "         '2020-02-10': 9852.7183,\n",
      "         '2020-02-11': 10266.1,\n",
      "         '2020-02-12': 10347.9517,\n",
      "         '2020-02-13': 10230.0783,\n",
      "         '2020-02-14': 10356.7567,\n",
      "         '2020-02-15': 9903.0217,\n",
      "         '2020-02-16': 9926.2,\n",
      "         '2020-02-17': 9706.08,\n",
      "         '2020-02-18': 10185.8767,\n",
      "         '2020-02-19': 9593.48,\n",
      "         '2020-02-20': 9607.31,\n",
      "         '2020-02-21': 9695.5583,\n",
      "         '2020-02-22': 9667.8433,\n",
      "         '2020-02-23': 9973.2733,\n",
      "         '2020-02-24': 9664.6333,\n",
      "         '2020-02-25': 9313.92,\n",
      "         '2020-02-26': 8790.12,\n",
      "         '2020-02-27': 8816.585,\n",
      "         '2020-02-28': 8715.6617,\n",
      "         '2020-02-29': 8538.3983,\n",
      "         '2020-03-01': 8540.2567,\n",
      "         '2020-03-02': 8926.2517,\n",
      "         '2020-03-03': 8768.18,\n",
      "         '2020-03-04': 8767.8867,\n",
      "         '2020-03-05': 9073.275,\n",
      "         '2020-03-06': 9165.1517,\n",
      "         '2020-03-07': 8905.9517,\n",
      "         '2020-03-08': 8050.1883,\n",
      "         '2020-03-09': 7944.45,\n",
      "         '2020-03-10': 7899.2267,\n",
      "         '2020-03-11': 7951.17,\n",
      "         '2020-03-12': 4914.085,\n",
      "         '2020-03-13': 5629.5767,\n",
      "         '2020-03-14': 5182.3217,\n",
      "         '2020-03-15': 5360.06,\n",
      "         '2020-03-16': 5043.6783,\n",
      "         '2020-03-17': 5337.0933,\n",
      "         '2020-03-18': 5411.6217,\n",
      "         '2020-03-19': 6180.27,\n",
      "         '2020-03-20': 6206.6117,\n",
      "         '2020-03-21': 6197.6183,\n",
      "         '2020-03-22': 5803.67,\n",
      "         '2020-03-23': 6492.94,\n",
      "         '2020-03-24': 6766.7817,\n",
      "         '2020-03-25': 6687.705,\n",
      "         '2020-03-26': 6709.95},\n",
      " 'disclaimer': 'This data was produced from the CoinDesk Bitcoin Price Index. '\n",
      "               'BPI value data returned as USD.',\n",
      " 'time': {'updated': 'Mar 27, 2020 00:03:00 UTC',\n",
      "          'updatedISO': '2020-03-27T00:03:00+00:00'}}\n"
     ]
    }
   ],
   "source": [
    "pprint(requests.get(response_url).json())  "
   ]
  },
  {
   "cell_type": "code",
   "execution_count": 5,
   "metadata": {},
   "outputs": [
    {
     "data": {
      "text/html": [
       "<div>\n",
       "<style scoped>\n",
       "    .dataframe tbody tr th:only-of-type {\n",
       "        vertical-align: middle;\n",
       "    }\n",
       "\n",
       "    .dataframe tbody tr th {\n",
       "        vertical-align: top;\n",
       "    }\n",
       "\n",
       "    .dataframe thead th {\n",
       "        text-align: right;\n",
       "    }\n",
       "</style>\n",
       "<table border=\"1\" class=\"dataframe\">\n",
       "  <thead>\n",
       "    <tr style=\"text-align: right;\">\n",
       "      <th></th>\n",
       "      <th>close date</th>\n",
       "      <th>close price</th>\n",
       "    </tr>\n",
       "  </thead>\n",
       "  <tbody>\n",
       "    <tr>\n",
       "      <th>0</th>\n",
       "      <td>2020-01-01</td>\n",
       "      <td>7188.4633</td>\n",
       "    </tr>\n",
       "    <tr>\n",
       "      <th>1</th>\n",
       "      <td>2020-01-02</td>\n",
       "      <td>6961.5683</td>\n",
       "    </tr>\n",
       "    <tr>\n",
       "      <th>2</th>\n",
       "      <td>2020-01-03</td>\n",
       "      <td>7346.5800</td>\n",
       "    </tr>\n",
       "    <tr>\n",
       "      <th>3</th>\n",
       "      <td>2020-01-04</td>\n",
       "      <td>7355.8550</td>\n",
       "    </tr>\n",
       "    <tr>\n",
       "      <th>4</th>\n",
       "      <td>2020-01-05</td>\n",
       "      <td>7356.3117</td>\n",
       "    </tr>\n",
       "    <tr>\n",
       "      <th>...</th>\n",
       "      <td>...</td>\n",
       "      <td>...</td>\n",
       "    </tr>\n",
       "    <tr>\n",
       "      <th>81</th>\n",
       "      <td>2020-03-22</td>\n",
       "      <td>5803.6700</td>\n",
       "    </tr>\n",
       "    <tr>\n",
       "      <th>82</th>\n",
       "      <td>2020-03-23</td>\n",
       "      <td>6492.9400</td>\n",
       "    </tr>\n",
       "    <tr>\n",
       "      <th>83</th>\n",
       "      <td>2020-03-24</td>\n",
       "      <td>6766.7817</td>\n",
       "    </tr>\n",
       "    <tr>\n",
       "      <th>84</th>\n",
       "      <td>2020-03-25</td>\n",
       "      <td>6687.7050</td>\n",
       "    </tr>\n",
       "    <tr>\n",
       "      <th>85</th>\n",
       "      <td>2020-03-26</td>\n",
       "      <td>6709.9500</td>\n",
       "    </tr>\n",
       "  </tbody>\n",
       "</table>\n",
       "<p>86 rows × 2 columns</p>\n",
       "</div>"
      ],
      "text/plain": [
       "    close date  close price\n",
       "0   2020-01-01    7188.4633\n",
       "1   2020-01-02    6961.5683\n",
       "2   2020-01-03    7346.5800\n",
       "3   2020-01-04    7355.8550\n",
       "4   2020-01-05    7356.3117\n",
       "..         ...          ...\n",
       "81  2020-03-22    5803.6700\n",
       "82  2020-03-23    6492.9400\n",
       "83  2020-03-24    6766.7817\n",
       "84  2020-03-25    6687.7050\n",
       "85  2020-03-26    6709.9500\n",
       "\n",
       "[86 rows x 2 columns]"
      ]
     },
     "execution_count": 5,
     "metadata": {},
     "output_type": "execute_result"
    }
   ],
   "source": [
    "response = requests.get(query_url).json()\n",
    "my_dict = response['bpi']\n",
    "test_df = pd.DataFrame(list(my_dict.items()),columns = ['close date','close price'])\n",
    "test_df"
   ]
  },
  {
   "cell_type": "code",
   "execution_count": 14,
   "metadata": {},
   "outputs": [
    {
     "data": {
      "text/plain": [
       "[<matplotlib.lines.Line2D at 0x1b6212e4470>]"
      ]
     },
     "execution_count": 14,
     "metadata": {},
     "output_type": "execute_result"
    },
    {
     "data": {
      "image/png": "[encoded data removed]",
      "text/plain": [
       "<Figure size 432x288 with 1 Axes>"
      ]
     },
     "metadata": {
      "needs_background": "light"
     },
     "output_type": "display_data"
    }
   ],
   "source": [
    "x_axis = test_df['close date']\n",
    "y_axis = test_df['close price']\n",
    "plt.xlabel('Date')\n",
    "plt.ylabel('Bitcoin Closing Price')\n",
    "plt.plot(x_axis, y_axis)"
   ]
  },
  {
   "cell_type": "code",
   "execution_count": 7,
   "metadata": {},
   "outputs": [
    {
     "data": {
      "text/html": [
       "<div>\n",
       "<style scoped>\n",
       "    .dataframe tbody tr th:only-of-type {\n",
       "        vertical-align: middle;\n",
       "    }\n",
       "\n",
       "    .dataframe tbody tr th {\n",
       "        vertical-align: top;\n",
       "    }\n",
       "\n",
       "    .dataframe thead th {\n",
       "        text-align: right;\n",
       "    }\n",
       "</style>\n",
       "<table border=\"1\" class=\"dataframe\">\n",
       "  <thead>\n",
       "    <tr style=\"text-align: right;\">\n",
       "      <th></th>\n",
       "      <th>close price</th>\n",
       "    </tr>\n",
       "  </thead>\n",
       "  <tbody>\n",
       "    <tr>\n",
       "      <th>count</th>\n",
       "      <td>86.000000</td>\n",
       "    </tr>\n",
       "    <tr>\n",
       "      <th>mean</th>\n",
       "      <td>8383.921629</td>\n",
       "    </tr>\n",
       "    <tr>\n",
       "      <th>std</th>\n",
       "      <td>1414.275491</td>\n",
       "    </tr>\n",
       "    <tr>\n",
       "      <th>min</th>\n",
       "      <td>4914.085000</td>\n",
       "    </tr>\n",
       "    <tr>\n",
       "      <th>25%</th>\n",
       "      <td>7837.499150</td>\n",
       "    </tr>\n",
       "    <tr>\n",
       "      <th>50%</th>\n",
       "      <td>8722.258300</td>\n",
       "    </tr>\n",
       "    <tr>\n",
       "      <th>75%</th>\n",
       "      <td>9392.120400</td>\n",
       "    </tr>\n",
       "    <tr>\n",
       "      <th>max</th>\n",
       "      <td>10356.756700</td>\n",
       "    </tr>\n",
       "  </tbody>\n",
       "</table>\n",
       "</div>"
      ],
      "text/plain": [
       "        close price\n",
       "count     86.000000\n",
       "mean    8383.921629\n",
       "std     1414.275491\n",
       "min     4914.085000\n",
       "25%     7837.499150\n",
       "50%     8722.258300\n",
       "75%     9392.120400\n",
       "max    10356.756700"
      ]
     },
     "execution_count": 7,
     "metadata": {},
     "output_type": "execute_result"
    }
   ],
   "source": [
    "test_df.describe()"
   ]
  },
  {
   "cell_type": "code",
   "execution_count": 9,
   "metadata": {},
   "outputs": [
    {
     "data": {
      "image/png": "[encoded data removed]",
      "text/plain": [
       "<Figure size 432x288 with 1 Axes>"
      ]
     },
     "metadata": {
      "needs_background": "light"
     },
     "output_type": "display_data"
    }
   ],
   "source": [
    "fig1, ax1 = plt.subplots()\n",
    "ax1.set_title('Bitcoin Closing Price during the Initial Days of the Covid-19 Pandemic: Closing the Borders')\n",
    "ax1.set_ylabel('Closing Price')\n",
    "ax1.boxplot(test_df['close price'])\n",
    "plt.xlabel('February 28- March 26,2020')\n",
    "plt.show()\n",
    "\n",
    "#lots of outliers "
   ]
  },
  {
   "cell_type": "code",
   "execution_count": 21,
   "metadata": {},
   "outputs": [
    {
     "name": "stdout",
     "output_type": "stream",
     "text": [
      "The lower quartile of bitcoin closing prices is: 7837.49915\n",
      "The upper quartile of bitcoin closing prices is: 9392.1204\n",
      "The interquartile range of bitcoin closing prices is: 1554.6212500000001\n",
      "The the median of bitcoin closing prices is: 8722.258300000001 \n",
      "Values below 5505.567274999999 could be outliers.\n",
      "Values above 11724.052275 could be outliers.\n"
     ]
    }
   ],
   "source": [
    "# If the data is in a dataframe, we use pandas to give quartile calculations\n",
    "quartiles = test_df['close price'].quantile([.25,.5,.75])\n",
    "lowerq = quartiles[0.25]\n",
    "upperq = quartiles[0.75]\n",
    "iqr = upperq-lowerq\n",
    "\n",
    "print(f\"The lower quartile of bitcoin closing prices is: {lowerq}\")\n",
    "print(f\"The upper quartile of bitcoin closing prices is: {upperq}\")\n",
    "print(f\"The interquartile range of bitcoin closing prices is: {iqr}\")\n",
    "print(f\"The the median of bitcoin closing prices is: {quartiles[0.5]} \")\n",
    "\n",
    "lower_bound = lowerq - (1.5*iqr)\n",
    "upper_bound = upperq + (1.5*iqr)\n",
    "print(f\"Values below {lower_bound} could be outliers.\")\n",
    "print(f\"Values above {upper_bound} could be outliers.\")"
   ]
  },
  {
   "cell_type": "code",
   "execution_count": null,
   "metadata": {},
   "outputs": [],
   "source": []
  }
 ],
 "metadata": {
  "kernelspec": {
   "display_name": "Python 3",
   "language": "python",
   "name": "python3"
  },
  "language_info": {
   "codemirror_mode": {
    "name": "ipython",
    "version": 3
   },
   "file_extension": ".py",
   "mimetype": "text/x-python",
   "name": "python",
   "nbconvert_exporter": "python",
   "pygments_lexer": "ipython3",
   "version": "3.6.10"
  }
 },
 "nbformat": 4,
 "nbformat_minor": 4
}
